{
 "cells": [
  {
   "cell_type": "markdown",
   "id": "ed2c09ba-5efe-4c1f-b64a-a664501c7d94",
   "metadata": {
    "panel-layout": {
     "height": 94.3125,
     "visible": true,
     "width": 100
    }
   },
   "source": [
    "# Data Science Tools and Ecosystem"
   ]
  },
  {
   "cell_type": "markdown",
   "id": "cc1abf40-8b60-4df2-b2c0-40efdfdae93e",
   "metadata": {
    "panel-layout": {
     "height": 68,
     "visible": true,
     "width": 100
    }
   },
   "source": [
    "W tym notatniku przedstawiono podstawowe informacje i narzędzia wykorzystywane w analizie danych oraz ekosystemie Data Science.\n"
   ]
  },
  {
   "cell_type": "markdown",
   "id": "69449b34-61ff-46f8-a03d-4a4dbb625458",
   "metadata": {},
   "source": [
    "Cele:\n",
    "\n",
    "- Wymienić popularne języki programowania stosowane w Data Science.\n",
    "- Zrozumieć rolę sztucznej inteligencji w analizie danych.\n",
    "- Poznać techniki wykorzystywane w przetwarzaniu dużych zbiorów danych (Big Data).\n",
    "- Zrozumieć podstawy uczenia maszynowego i jego zastosowanie w analizie danych.\n",
    "- Omówić narzędzia i technologie wspierające procesy analizy danych."
   ]
  },
  {
   "cell_type": "markdown",
   "id": "68be65b1-729a-49b1-a122-5eefe16f3c58",
   "metadata": {
    "panel-layout": {
     "height": 148.703125,
     "visible": true,
     "width": 100
    }
   },
   "source": [
    "Niektóre z popularnych języków, które używają Data Scientists, to:  \n",
    "1. Python  \n",
    "2. R  \n",
    "3. SQL  \n",
    "4. Julia  \n",
    "5. Scala\n"
   ]
  },
  {
   "cell_type": "markdown",
   "id": "989e830e-f0c3-4352-b3d0-081114d18cfa",
   "metadata": {
    "panel-layout": {
     "height": 165.703125,
     "visible": true,
     "width": 100
    }
   },
   "source": [
    "Niektóre z powszechnie używanych bibliotek przez Data Scientists to:  \n",
    "1. **Pandas** - do manipulacji i analizy danych.  \n",
    "2. **NumPy** - do obliczeń numerycznych i operacji na tablicach wielowymiarowych.  \n",
    "3. **Matplotlib** - do wizualizacji danych i tworzenia wykresów.  \n",
    "4. **Scikit-learn** - do uczenia maszynowego i modelowania danych.  \n",
    "5. **TensorFlow** - do tworzenia i trenowania modeli uczenia głębokiego.\n",
    "   "
   ]
  },
  {
   "cell_type": "code",
   "execution_count": null,
   "id": "1c24bc1a-8633-4e85-9ba9-dfc29c5655c6",
   "metadata": {},
   "outputs": [],
   "source": []
  },
  {
   "cell_type": "markdown",
   "id": "8f1008e5-1dee-4152-9e1c-71211551fc37",
   "metadata": {},
   "source": [
    "| Narzędzia Data Science      |\n",
    "|-----------------------------|\n",
    "| Jupyter Notebook            |\n",
    "| RStudio                     |\n",
    "| Apache Zeppelin             |\n"
   ]
  },
  {
   "cell_type": "markdown",
   "id": "85c64f0c-5f67-44dd-a138-31649cabaec7",
   "metadata": {},
   "source": [
    "### Poniżej znajdują się przykłady oceny wyrażeń arytmetycznych w Pythonie.\n",
    "\n",
    "1. **Dodawanie**: \n",
    "   ```python\n",
    "   5 + 3\n",
    "\n",
    "2. **Odejmowanie**:\n",
    "   ```python\n",
    "   7 - 5\n",
    "\n",
    "   "
   ]
  },
  {
   "cell_type": "code",
   "execution_count": 16,
   "id": "1a8c2822-386b-46ee-9355-2a1c8f458fb1",
   "metadata": {},
   "outputs": [
    {
     "data": {
      "text/plain": [
       "17"
      ]
     },
     "execution_count": 16,
     "metadata": {},
     "output_type": "execute_result"
    }
   ],
   "source": [
    "### To jest proste wyrażenie arytmetyczne do pomnożenia, a następnie dodania liczb całkowitych\n",
    "\n",
    "(3*4)+5"
   ]
  },
  {
   "cell_type": "code",
   "execution_count": 18,
   "id": "aac2f028-6861-481e-af39-a7bea19be0bf",
   "metadata": {},
   "outputs": [
    {
     "data": {
      "text/plain": [
       "3.3333333333333335"
      ]
     },
     "execution_count": 18,
     "metadata": {},
     "output_type": "execute_result"
    }
   ],
   "source": [
    "### To przeliczy 200 minut na godziny, dzieląc przez 60\n",
    "200/60"
   ]
  },
  {
   "cell_type": "markdown",
   "id": "1d3d5863-ebe2-4a43-baa9-2e715898f5be",
   "metadata": {},
   "source": [
    "## Autor\n",
    "Dawid"
   ]
  },
  {
   "cell_type": "code",
   "execution_count": null,
   "id": "ffe9b922-b7f2-444b-a664-819fc3daa35c",
   "metadata": {},
   "outputs": [],
   "source": []
  }
 ],
 "metadata": {
  "kernelspec": {
   "display_name": "Python 3 (ipykernel)",
   "language": "python",
   "name": "python3"
  },
  "language_info": {
   "codemirror_mode": {
    "name": "ipython",
    "version": 3
   },
   "file_extension": ".py",
   "mimetype": "text/x-python",
   "name": "python",
   "nbconvert_exporter": "python",
   "pygments_lexer": "ipython3",
   "version": "3.12.4"
  },
  "panel-cell-order": [
   "ed2c09ba-5efe-4c1f-b64a-a664501c7d94",
   "cc1abf40-8b60-4df2-b2c0-40efdfdae93e",
   "68be65b1-729a-49b1-a122-5eefe16f3c58",
   "989e830e-f0c3-4352-b3d0-081114d18cfa"
  ]
 },
 "nbformat": 4,
 "nbformat_minor": 5
}
